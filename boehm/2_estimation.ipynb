{
 "cells": [
  {
   "attachments": {},
   "cell_type": "markdown",
   "metadata": {},
   "source": [
    "### Import Libraries"
   ]
  },
  {
   "cell_type": "code",
   "execution_count": null,
   "metadata": {},
   "outputs": [],
   "source": [
    "%load_ext autoreload\n",
    "%autoreload 2\n",
    "import xarray as xr\n",
    "import hmp\n",
    "from pathlib import Path\n",
    "from mne import read_epochs\n",
    "from hmpai.data import StageFinder, SAT_CLASSES_ACCURACY, SAT_CLASSES_SPEED\n",
    "from hmpai.pytorch.utilities import set_global_seed\n",
    "from hmpai.training import split_participants\n",
    "import os\n",
    "DATA_PATH = Path(os.getenv(\"DATA_PATH\"))"
   ]
  },
  {
   "cell_type": "markdown",
   "metadata": {},
   "source": [
    "### Calculate PCA weights over train set"
   ]
  },
  {
   "cell_type": "code",
   "execution_count": null,
   "metadata": {},
   "outputs": [],
   "source": [
    "# Get PCA weights\n",
    "epoched_data_path = DATA_PATH / \"sat1/data_250hz.nc\"\n",
    "data = xr.load_dataset(epoched_data_path)\n",
    "\n",
    "set_global_seed(42)\n",
    "splits = split_participants([epoched_data_path], train_percentage=50)\n",
    "\n",
    "data = data.sel(participant=splits[0])\n",
    "\n",
    "conditions = [\"AC\", \"SP\"]\n",
    "labels = {\"AC\": SAT_CLASSES_ACCURACY, \"SP\": SAT_CLASSES_SPEED}\n",
    "\n",
    "pca_finder = StageFinder(data, labels, conditions, n_comp=10)\n",
    "pca_finder.hmp_data_offset.pca_weights.to_netcdf(\"files/train_pca.nc\")"
   ]
  },
  {
   "attachments": {},
   "cell_type": "markdown",
   "metadata": {},
   "source": [
    "### Fit HMP"
   ]
  },
  {
   "cell_type": "code",
   "execution_count": null,
   "metadata": {},
   "outputs": [],
   "source": [
    "info_path = DATA_PATH / \"sat1/preprocessed_500hz/processed_500Hz_0001_epo.fif\"\n",
    "epoch = read_epochs(info_path)\n",
    "epoch.set_montage('biosemi64')\n",
    "positions = epoch.info"
   ]
  },
  {
   "cell_type": "code",
   "execution_count": null,
   "metadata": {},
   "outputs": [],
   "source": [
    "# Amount of cores to use in multiprocessing\n",
    "cpus = 8\n",
    "\n",
    "epoched_data_path = DATA_PATH / \"sat1/data_250hz.nc\"\n",
    "output_path = DATA_PATH / \"sat1/stage_data_250hz.nc\"\n",
    "conditions = [\"AC\", \"SP\"]\n",
    "labels = {\"AC\": SAT_CLASSES_ACCURACY, \"SP\": SAT_CLASSES_SPEED}\n",
    "pca_weights = xr.load_dataarray(\"files/train_pca.nc\")\n",
    "\n",
    "stage_finder = StageFinder(\n",
    "    epoched_data_path,\n",
    "    labels,\n",
    "    conditions=conditions,\n",
    "    cpus=cpus,\n",
    "    fit_function=\"fit_single\",  # n_events is extracted from the amount of labels in 'conditions' variable\n",
    "    fit_args={\"starting_points\": 1},\n",
    "    verbose=False,\n",
    "    condition_variable=\"cue\",\n",
    "    condition_method=\"equal\",\n",
    "    n_comp=10,\n",
    "    event_width=45,\n",
    "    pca_weights=pca_weights,\n",
    "    # fits_to_load=[\"files/fits/accuracy_250hz.nc\", \"files/fits/speed_250hz.nc\"], # Comment out if fitting anew\n",
    ")\n",
    "stage_finder.fit_model()"
   ]
  },
  {
   "cell_type": "code",
   "execution_count": null,
   "metadata": {},
   "outputs": [],
   "source": [
    "fig, ax = stage_finder.visualize_model(positions, max_time=1000, figsize=(12, 3), set_vlims=False)\n"
   ]
  },
  {
   "cell_type": "code",
   "execution_count": null,
   "metadata": {},
   "outputs": [],
   "source": [
    "# Save models\n",
    "hmp.utils.save_fit(stage_finder.fits[0], \"files/fits/accuracy_250hz.nc\")\n",
    "hmp.utils.save_fit(stage_finder.fits[1], \"files/fits/speed_250hz.nc\")"
   ]
  },
  {
   "cell_type": "code",
   "execution_count": null,
   "metadata": {},
   "outputs": [],
   "source": [
    "output_path = DATA_PATH / \"sat1/stage_data_250hz.nc\"\n",
    "stage_data = stage_finder.label_model(label_fn=stage_finder.__label_model_probabilistic__, probabilistic=True)"
   ]
  },
  {
   "cell_type": "code",
   "execution_count": null,
   "metadata": {},
   "outputs": [],
   "source": [
    "# Save labelled dataset\n",
    "stage_data.to_netcdf(output_path)"
   ]
  }
 ],
 "metadata": {
  "kernelspec": {
   "display_name": "base",
   "language": "python",
   "name": "python3"
  },
  "language_info": {
   "codemirror_mode": {
    "name": "ipython",
    "version": 3
   },
   "file_extension": ".py",
   "mimetype": "text/x-python",
   "name": "python",
   "nbconvert_exporter": "python",
   "pygments_lexer": "ipython3",
   "version": "3.11.10"
  },
  "orig_nbformat": 4
 },
 "nbformat": 4,
 "nbformat_minor": 2
}
