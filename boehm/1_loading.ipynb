{
 "cells": [
  {
   "attachments": {},
   "cell_type": "markdown",
   "metadata": {},
   "source": [
    "### Import Libraries"
   ]
  },
  {
   "cell_type": "code",
   "execution_count": null,
   "metadata": {},
   "outputs": [],
   "source": [
    "%load_ext autoreload\n",
    "%autoreload 2\n",
    "# Most code adapted from Gabriel Weindel at https://github.com/GWeindel/hmp\n",
    "# https://github.com/GWeindel/hmp/blob/main/tutorials/1-Data_loading.ipynb\n",
    "import hmp\n",
    "from pathlib import Path\n",
    "import os\n",
    "DATA_PATH = Path(os.getenv(\"DATA_PATH\"))"
   ]
  },
  {
   "attachments": {},
   "cell_type": "markdown",
   "metadata": {},
   "source": [
    "### Set up paths and participants"
   ]
  },
  {
   "cell_type": "code",
   "execution_count": null,
   "metadata": {},
   "outputs": [],
   "source": [
    "# Path where pre-processed EEG data can be found\n",
    "eeg_data_path = DATA_PATH / \"sat1/preprocessed_500hz/\"\n",
    "\n",
    "# Path where output will be saved\n",
    "output_filename = \"data_250hz.nc\"\n",
    "output_path = DATA_PATH / \"sat1\" / output_filename\n",
    "\n",
    "# Change array indexing when you want to create a dataset consisting of a subset of the participants\n",
    "subj_ids = [\n",
    "    (\n",
    "        subj_id.name.split(\"_\")[2]\n",
    "        if \"500hz\" in str(eeg_data_path)\n",
    "        else subj_id.name.split(\"_\")[1]\n",
    "    )\n",
    "    for subj_id in eeg_data_path.glob(\"*.fif\")\n",
    "]\n",
    "subj_ids.sort()\n",
    "subj_files = [\n",
    "    (\n",
    "        str(eeg_data_path / f\"processed_500Hz_{subj_id}_epo.fif\")\n",
    "        if \"500hz\" in str(eeg_data_path)\n",
    "        else str(eeg_data_path / f\"processed_{subj_id}_epo.fif\")\n",
    "    )\n",
    "    for subj_id in subj_ids\n",
    "]\n",
    "print(subj_ids)"
   ]
  },
  {
   "attachments": {},
   "cell_type": "markdown",
   "metadata": {},
   "source": [
    "### Load data into epoched xarray and save"
   ]
  },
  {
   "cell_type": "code",
   "execution_count": null,
   "metadata": {},
   "outputs": [],
   "source": [
    "data = hmp.utils.read_mne_data(\n",
    "    subj_files,\n",
    "    epoched=True,\n",
    "    sfreq=250,\n",
    "    scale=1000,\n",
    "    lower_limit_RT=0.2,\n",
    "    upper_limit_RT=1.5, # 1.5s since any trial longer than this is 'no answer' according to Boehm 2014\n",
    "    verbose=False,\n",
    "    subj_idx=subj_ids,\n",
    "    rt_col='RT',\n",
    "    offset_after_resp=0.25,\n",
    "    offset_before_stim=0.25,\n",
    ")\n",
    "tmp_offset = data.offset\n",
    "data = data.assign_attrs({'offset': 0, 'extra_offset': tmp_offset})\n",
    "data.to_netcdf(output_path)"
   ]
  }
 ],
 "metadata": {
  "kernelspec": {
   "display_name": "base",
   "language": "python",
   "name": "python3"
  },
  "language_info": {
   "codemirror_mode": {
    "name": "ipython",
    "version": 3
   },
   "file_extension": ".py",
   "mimetype": "text/x-python",
   "name": "python",
   "nbconvert_exporter": "python",
   "pygments_lexer": "ipython3",
   "version": "3.11.10"
  },
  "orig_nbformat": 4
 },
 "nbformat": 4,
 "nbformat_minor": 2
}
