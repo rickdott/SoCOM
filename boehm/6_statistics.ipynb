{
 "cells": [
  {
   "cell_type": "code",
   "execution_count": null,
   "metadata": {},
   "outputs": [],
   "source": [
    "%load_ext autoreload\n",
    "%autoreload 2\n",
    "from pathlib import Path\n",
    "from hmpai.training import split_participants\n",
    "from hmpai.pytorch.utilities import DEVICE, set_global_seed, load_model\n",
    "from hmpai.pytorch.generators import MultiXArrayProbaDataset\n",
    "from hmpai.data import SAT_CLASSES_ACCURACY\n",
    "from hmpai.pytorch.normalization import *\n",
    "from hmpai.utilities import calc_ratio, format_stats_latex\n",
    "from torch.utils.data import DataLoader\n",
    "import os\n",
    "DATA_PATH = Path(os.getenv(\"DATA_PATH\"))\n",
    "from hmpai.visualization import *\n",
    "from hmpai.pytorch.mamba import *\n",
    "from pymer4.models import Lmer"
   ]
  },
  {
   "cell_type": "code",
   "execution_count": null,
   "metadata": {},
   "outputs": [],
   "source": [
    "set_global_seed(42)\n",
    "\n",
    "data_paths = [DATA_PATH / \"sat1/stage_data_250hz.nc\"]\n",
    "splits = split_participants(data_paths, train_percentage=50)\n",
    "all_participants = splits[0] + splits[1] + splits[2]\n",
    "\n",
    "labels = SAT_CLASSES_ACCURACY\n",
    "\n",
    "info_to_keep = ['participant', 'epochs', 'RT', 'cue', 'movement', 'resp']\n",
    "subset_cond = None\n",
    "skip_samples = 62\n",
    "cut_samples = 63\n",
    "add_negative = True\n",
    "add_pe = True"
   ]
  },
  {
   "cell_type": "code",
   "execution_count": null,
   "metadata": {},
   "outputs": [],
   "source": [
    "# Create dataset\n",
    "norm_fn = norm_mad_zscore\n",
    "\n",
    "test_data = MultiXArrayProbaDataset(\n",
    "    data_paths,\n",
    "    participants_to_keep=all_participants,\n",
    "    normalization_fn=norm_fn,\n",
    "    labels=labels,\n",
    "    info_to_keep=info_to_keep,\n",
    "    subset_cond=subset_cond,\n",
    "    skip_samples=skip_samples,\n",
    "    cut_samples=cut_samples,\n",
    "    add_negative=add_negative,\n",
    "    add_pe=add_pe,\n",
    ")"
   ]
  },
  {
   "cell_type": "code",
   "execution_count": null,
   "metadata": {},
   "outputs": [],
   "source": [
    "test_loader_sat1 = DataLoader(\n",
    "    test_data, batch_size=128, shuffle=True, num_workers=0, pin_memory=True\n",
    ")"
   ]
  },
  {
   "cell_type": "code",
   "execution_count": null,
   "metadata": {},
   "outputs": [],
   "source": [
    "chk_path = Path(\"../models/boehm.pt\")\n",
    "checkpoint = load_model(chk_path)\n",
    "config = {\n",
    "    \"n_channels\": 30,\n",
    "    \"n_classes\": len(labels),\n",
    "    \"n_mamba_layers\": 5,\n",
    "    \"use_pointconv_fe\": True,\n",
    "    \"spatial_feature_dim\": 128,\n",
    "    \"use_conv\": True,\n",
    "    \"conv_kernel_sizes\": [3, 9],\n",
    "    \"conv_in_channels\": [128, 128],\n",
    "    \"conv_out_channels\": [256, 256],\n",
    "    \"conv_concat\": True,\n",
    "    \"use_pos_enc\": True,\n",
    "}\n",
    "model = build_mamba(config)\n",
    "model.load_state_dict(checkpoint[\"model_state_dict\"])\n",
    "model = model.to(DEVICE)\n",
    "model.eval();"
   ]
  },
  {
   "cell_type": "code",
   "execution_count": null,
   "metadata": {},
   "outputs": [],
   "source": [
    "data = predict_with_auc(model, test_loader_sat1, info_to_keep, labels)\n",
    "data['RT'] = data['RT'] / 1000"
   ]
  },
  {
   "cell_type": "markdown",
   "metadata": {},
   "source": [
    "### Tertiles"
   ]
  },
  {
   "cell_type": "code",
   "execution_count": null,
   "metadata": {},
   "outputs": [],
   "source": [
    "def get_tertiles(data: pd.DataFrame, column: str, conditions: list[str], rt_col: str='rt_x', cue_var='SAT'):\n",
    "    data = data.copy()\n",
    "    data = calc_ratio(data, column, rt_col)\n",
    "    ratio_column = column + '_ratio'\n",
    "\n",
    "    for condition in conditions:\n",
    "        data_subset = data[data[cue_var] == condition]\n",
    "        quantile_values = data_subset.groupby('participant')[ratio_column].quantile([1/3, 2/3]).unstack()\n",
    "        # First tertile\n",
    "        low_tertiles = quantile_values.iloc[:,0]\n",
    "        high_tertiles = quantile_values.iloc[:,1]\n",
    "        print(f'{condition}, low. mean: {low_tertiles.mean():.2f}, std: {low_tertiles.std():.2f}')\n",
    "        print(f'{condition}, high. mean: {high_tertiles.mean():.2f}, std: {high_tertiles.std():.2f}')\n",
    "        # print(data_subset[ratio_column].describe())\n",
    "        # print(data_subset[auc_column].describe())\n",
    "\n",
    "\n",
    "def add_tertiles(data: pd.DataFrame, column: str, conditions: list[str], rt_col: str='rt_x', cue_var='SAT'):\n",
    "    data = calc_ratio(data, column, rt_col)\n",
    "    ratio_column = column + '_ratio'\n",
    "    \n",
    "    # Initialize tertile column\n",
    "    data['tertile'] = pd.NA\n",
    "\n",
    "    for condition in conditions:\n",
    "        condition_mask = data[cue_var] == condition\n",
    "\n",
    "        # Directly assign back to the original dataframe using `.loc`\n",
    "        data.loc[condition_mask, 'tertile'] = data[condition_mask].groupby('participant')[ratio_column].transform(\n",
    "            lambda x: pd.qcut(x, q=3, labels=['Low', 'Medium', 'High'])\n",
    "        )\n",
    "\n",
    "    return data"
   ]
  },
  {
   "cell_type": "code",
   "execution_count": null,
   "metadata": {},
   "outputs": [],
   "source": [
    "# Condition 1: Both movement and resp are non-empty\n",
    "valid_comparison = (data['movement'] != '') & (data['resp'] != '')\n",
    "\n",
    "# Condition 2: Extract last 4 chars only if non-empty (returns NaN otherwise)\n",
    "movement_last4 = np.where(data['movement'] != '', data['movement'].str[-4:], np.nan)\n",
    "resp_last4 = np.where(data['resp'] != '', data['resp'].str[-4:], np.nan)\n",
    "\n",
    "# Assign correctness (True/False/NaN)\n",
    "data['response'] = np.where(\n",
    "    valid_comparison,\n",
    "    movement_last4 == resp_last4,  # Actual comparison\n",
    "    np.nan                        # Invalid -> NaN\n",
    ")\n",
    "data = add_tertiles(data, 'confirmation', ['AC', 'SP'], rt_col='RT', cue_var='cue')"
   ]
  },
  {
   "cell_type": "code",
   "execution_count": null,
   "metadata": {},
   "outputs": [],
   "source": [
    "data_lmer = data[[\"participant\", \"cue\", \"confirmation_ratio\", \"response\", \"tertile\"]].copy()\n",
    "data_lmer[\"participant\"] = data_lmer[\"participant\"].astype(\"category\")\n",
    "data_lmer[\"cue\"] = data_lmer[\"cue\"].astype(\"category\")\n",
    "\n",
    "formula = \"response ~ cue * confirmation_ratio + (1|participant)\"\n",
    "\n",
    "model = Lmer(formula, data_lmer, family=\"binomial\")\n",
    "result = model.fit()\n",
    "print(model.summary())"
   ]
  },
  {
   "cell_type": "code",
   "execution_count": null,
   "metadata": {},
   "outputs": [],
   "source": [
    "format_stats_latex(model)"
   ]
  }
 ],
 "metadata": {
  "kernelspec": {
   "display_name": "base",
   "language": "python",
   "name": "python3"
  },
  "language_info": {
   "codemirror_mode": {
    "name": "ipython",
    "version": 3
   },
   "file_extension": ".py",
   "mimetype": "text/x-python",
   "name": "python",
   "nbconvert_exporter": "python",
   "pygments_lexer": "ipython3",
   "version": "3.11.10"
  }
 },
 "nbformat": 4,
 "nbformat_minor": 2
}
