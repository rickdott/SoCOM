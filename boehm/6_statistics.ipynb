{
 "cells": [
  {
   "cell_type": "code",
   "execution_count": null,
   "metadata": {},
   "outputs": [],
   "source": [
    "%load_ext autoreload\n",
    "%autoreload 2\n",
    "from pathlib import Path\n",
    "from hmpai.training import split_participants\n",
    "from hmpai.pytorch.models import *\n",
    "from hmpai.pytorch.utilities import DEVICE, set_global_seed, load_model\n",
    "from hmpai.pytorch.generators import MultiXArrayProbaDataset\n",
    "from hmpai.data import SAT_CLASSES_ACCURACY\n",
    "from hmpai.pytorch.normalization import *\n",
    "from hmpai.utilities import calc_ratio, format_stats_latex\n",
    "from torch.utils.data import DataLoader\n",
    "import os\n",
    "DATA_PATH = Path(os.getenv(\"DATA_PATH\"))\n",
    "from hmpai.visualization import *\n",
    "from hmpai.pytorch.mamba import *\n",
    "from pymer4.models import Lmer"
   ]
  },
  {
   "cell_type": "code",
   "execution_count": null,
   "metadata": {},
   "outputs": [],
   "source": [
    "set_global_seed(42)\n",
    "\n",
    "data_paths = [DATA_PATH / \"sat1/stage_data_250hz.nc\"]\n",
    "splits = split_participants(data_paths, train_percentage=50)\n",
    "all_participants = splits[0] + splits[1] + splits[2]\n",
    "\n",
    "labels = SAT_CLASSES_ACCURACY\n",
    "\n",
    "whole_epoch = True\n",
    "info_to_keep = ['participant', 'epochs', 'RT', 'cue', 'movement', 'resp']\n",
    "subset_cond = None\n",
    "skip_samples = 62\n",
    "cut_samples = 63\n",
    "add_negative = True\n",
    "add_pe = True"
   ]
  },
  {
   "cell_type": "code",
   "execution_count": 3,
   "metadata": {},
   "outputs": [],
   "source": [
    "# Create dataset\n",
    "norm_fn = norm_mad_zscore\n",
    "\n",
    "test_data = MultiXArrayProbaDataset(\n",
    "    data_paths,\n",
    "    participants_to_keep=all_participants,\n",
    "    normalization_fn=norm_fn,\n",
    "    whole_epoch=whole_epoch,\n",
    "    labels=labels,\n",
    "    info_to_keep=info_to_keep,\n",
    "    subset_cond=subset_cond,\n",
    "    skip_samples=skip_samples,\n",
    "    cut_samples=cut_samples,\n",
    "    add_negative=add_negative,\n",
    "    add_pe=add_pe,\n",
    ")"
   ]
  },
  {
   "cell_type": "code",
   "execution_count": 4,
   "metadata": {},
   "outputs": [],
   "source": [
    "# Load in behavioural data\n",
    "test_loader_sat1 = DataLoader(\n",
    "    test_data, batch_size=128, shuffle=True, num_workers=0, pin_memory=True\n",
    ")"
   ]
  },
  {
   "cell_type": "code",
   "execution_count": null,
   "metadata": {},
   "outputs": [],
   "source": [
    "chk_path = Path(\"../models/boehm.pt\")\n",
    "checkpoint = load_model(chk_path)\n",
    "config = {\n",
    "    \"n_channels\": 30,\n",
    "    \"n_classes\": len(labels),\n",
    "    \"n_mamba_layers\": 5,\n",
    "    \"use_pointconv_fe\": True,\n",
    "    \"spatial_feature_dim\": 128,\n",
    "    \"use_conv\": True,\n",
    "    \"conv_kernel_sizes\": [3, 9],\n",
    "    \"conv_in_channels\": [128, 128],\n",
    "    \"conv_out_channels\": [256, 256],\n",
    "    \"conv_concat\": True,\n",
    "    \"use_pos_enc\": True,\n",
    "}\n",
    "model = build_mamba(config)\n",
    "model.load_state_dict(checkpoint[\"model_state_dict\"])\n",
    "model = model.to(DEVICE)\n",
    "model.eval();"
   ]
  },
  {
   "cell_type": "code",
   "execution_count": null,
   "metadata": {},
   "outputs": [],
   "source": [
    "data = predict_with_auc(model, test_loader_sat1, info_to_keep, labels)\n",
    "data['RT'] = data['RT'] / 1000"
   ]
  },
  {
   "cell_type": "markdown",
   "metadata": {},
   "source": [
    "### Tertiles"
   ]
  },
  {
   "cell_type": "code",
   "execution_count": 8,
   "metadata": {},
   "outputs": [],
   "source": [
    "def get_tertiles(data: pd.DataFrame, column: str, conditions: list[str], rt_col: str='rt_x', cue_var='SAT'):\n",
    "    data = data.copy()\n",
    "    data = calc_ratio(data, column, rt_col)\n",
    "    ratio_column = column + '_ratio'\n",
    "\n",
    "    for condition in conditions:\n",
    "        data_subset = data[data[cue_var] == condition]\n",
    "        quantile_values = data_subset.groupby('participant')[ratio_column].quantile([1/3, 2/3]).unstack()\n",
    "        # First tertile\n",
    "        low_tertiles = quantile_values.iloc[:,0]\n",
    "        high_tertiles = quantile_values.iloc[:,1]\n",
    "        print(f'{condition}, low. mean: {low_tertiles.mean():.2f}, std: {low_tertiles.std():.2f}')\n",
    "        print(f'{condition}, high. mean: {high_tertiles.mean():.2f}, std: {high_tertiles.std():.2f}')\n",
    "        # print(data_subset[ratio_column].describe())\n",
    "        # print(data_subset[auc_column].describe())\n",
    "\n",
    "\n",
    "def add_tertiles(data: pd.DataFrame, column: str, conditions: list[str], rt_col: str='rt_x', cue_var='SAT'):\n",
    "    data = calc_ratio(data, column, rt_col)\n",
    "    ratio_column = column + '_ratio'\n",
    "    \n",
    "    # Initialize tertile column\n",
    "    data['tertile'] = pd.NA\n",
    "\n",
    "    for condition in conditions:\n",
    "        condition_mask = data[cue_var] == condition\n",
    "\n",
    "        # Directly assign back to the original dataframe using `.loc`\n",
    "        data.loc[condition_mask, 'tertile'] = data[condition_mask].groupby('participant')[ratio_column].transform(\n",
    "            lambda x: pd.qcut(x, q=3, labels=['Low', 'Medium', 'High'])\n",
    "        )\n",
    "\n",
    "    return data"
   ]
  },
  {
   "cell_type": "code",
   "execution_count": 9,
   "metadata": {},
   "outputs": [],
   "source": [
    "# Condition 1: Both movement and resp are non-empty\n",
    "valid_comparison = (data['movement'] != '') & (data['resp'] != '')\n",
    "\n",
    "# Condition 2: Extract last 4 chars only if non-empty (returns NaN otherwise)\n",
    "movement_last4 = np.where(data['movement'] != '', data['movement'].str[-4:], np.nan)\n",
    "resp_last4 = np.where(data['resp'] != '', data['resp'].str[-4:], np.nan)\n",
    "\n",
    "# Assign correctness (True/False/NaN)\n",
    "data['response'] = np.where(\n",
    "    valid_comparison,\n",
    "    movement_last4 == resp_last4,  # Actual comparison\n",
    "    np.nan                        # Invalid -> NaN\n",
    ")\n",
    "data = add_tertiles(data, 'confirmation', ['AC', 'SP'], rt_col='RT', cue_var='cue')"
   ]
  },
  {
   "cell_type": "code",
   "execution_count": null,
   "metadata": {},
   "outputs": [
    {
     "name": "stderr",
     "output_type": "stream",
     "text": [
      "/opt/conda/lib/python3.11/site-packages/rpy2/robjects/pandas2ri.py:56: UserWarning: DataFrame contains duplicated elements in the index, which will lead to loss of the row names in the resulting data.frame\n",
      "  warnings.warn('DataFrame contains duplicated elements in the index, '\n"
     ]
    },
    {
     "name": "stdout",
     "output_type": "stream",
     "text": [
      "Linear mixed model fit by maximum likelihood  ['lmerMod']\n",
      "Formula: response~cue*confirmation_ratio+(1|participant)\n",
      "\n",
      "Family: binomial\t Inference: parametric\n",
      "\n",
      "Number of observations: 4338\t Groups: {'participant': 25.0}\n",
      "\n",
      "Log-likelihood: -2699.960 \t AIC: 5409.920\n",
      "\n",
      "Random effects:\n",
      "\n",
      "                    Name    Var    Std\n",
      "participant  (Intercept)  0.083  0.288\n",
      "\n",
      "No random effect correlations specified\n",
      "\n",
      "Fixed effects:\n",
      "\n",
      "Linear mixed model fit by maximum likelihood  ['lmerMod']\n",
      "Formula: response~cue*confirmation_ratio+(1|participant)\n",
      "\n",
      "Family: binomial\t Inference: parametric\n",
      "\n",
      "Number of observations: 4338\t Groups: {'participant': 25.0}\n",
      "\n",
      "Log-likelihood: -2699.960 \t AIC: 5409.920\n",
      "\n",
      "Random effects:\n",
      "\n",
      "                    Name    Var    Std\n",
      "participant  (Intercept)  0.083  0.288\n",
      "\n",
      "No random effect correlations specified\n",
      "\n",
      "Fixed effects:\n",
      "\n",
      "                          Estimate  2.5_ci  97.5_ci     SE     OR  OR_2.5_ci  \\\n",
      "(Intercept)                  0.913   0.760    1.065  0.078  2.491      2.139   \n",
      "cueSP                       -0.348  -0.486   -0.210  0.071  0.706      0.615   \n",
      "confirmation_ratio           0.145   0.022    0.267  0.062  1.156      1.023   \n",
      "cueSP:confirmation_ratio     0.115  -0.032    0.262  0.075  1.122      0.968   \n",
      "\n",
      "                          OR_97.5_ci   Prob  Prob_2.5_ci  Prob_97.5_ci  \\\n",
      "(Intercept)                    2.900  0.714        0.681         0.744   \n",
      "cueSP                          0.811  0.414        0.381         0.448   \n",
      "confirmation_ratio             1.306  0.536        0.506         0.566   \n",
      "cueSP:confirmation_ratio       1.300  0.529        0.492         0.565   \n",
      "\n",
      "                          Z-stat  P-val  Sig  \n",
      "(Intercept)               11.753  0.000  ***  \n",
      "cueSP                     -4.931  0.000  ***  \n",
      "confirmation_ratio         2.318  0.020    *  \n",
      "cueSP:confirmation_ratio   1.533  0.125       \n"
     ]
    },
    {
     "name": "stderr",
     "output_type": "stream",
     "text": [
      "/opt/conda/lib/python3.11/site-packages/pymer4/models/Lmer.py:733: FutureWarning: DataFrame.applymap has been deprecated. Use DataFrame.map instead.\n",
      "  ran_vars = ran_vars.applymap(\n"
     ]
    }
   ],
   "source": [
    "data_lmer = data[[\"participant\", \"cue\", \"confirmation_ratio\", \"response\", \"tertile\"]].copy()\n",
    "data_lmer[\"participant\"] = data_lmer[\"participant\"].astype(\"category\")\n",
    "data_lmer[\"cue\"] = data_lmer[\"cue\"].astype(\"category\")\n",
    "\n",
    "formula = \"response ~ cue * confirmation_ratio + (1|participant)\"\n",
    "\n",
    "model = Lmer(formula, data_lmer, family=\"binomial\")\n",
    "result = model.fit()\n",
    "print(model.summary())"
   ]
  },
  {
   "cell_type": "code",
   "execution_count": 11,
   "metadata": {},
   "outputs": [
    {
     "name": "stdout",
     "output_type": "stream",
     "text": [
      "(Intercept)\n",
      "($\\beta = 0.91$, $SE = 0.08$, $z = 11.75$, $p < 0.001$, $OR = 2.49$, $95\\%\\,CI\\,[2.14, 2.90]$)\n",
      "cueSP\n",
      "($\\beta = -0.35$, $SE = 0.07$, $z = -4.93$, $p < 0.001$, $OR = 0.71$, $95\\%\\,CI\\,[0.61, 0.81]$)\n",
      "confirmation_ratio\n",
      "($\\beta = 0.14$, $SE = 0.06$, $z = 2.32$, $p < 0.05$, $OR = 1.16$, $95\\%\\,CI\\,[1.02, 1.31]$)\n",
      "cueSP:confirmation_ratio\n",
      "($\\beta = 0.12$, $SE = 0.08$, $z = 1.53$, $p = 0.13$, $OR = 1.12$, $95\\%\\,CI\\,[0.97, 1.30]$)\n"
     ]
    }
   ],
   "source": [
    "format_stats_latex(model)"
   ]
  }
 ],
 "metadata": {
  "kernelspec": {
   "display_name": "base",
   "language": "python",
   "name": "python3"
  },
  "language_info": {
   "codemirror_mode": {
    "name": "ipython",
    "version": 3
   },
   "file_extension": ".py",
   "mimetype": "text/x-python",
   "name": "python",
   "nbconvert_exporter": "python",
   "pygments_lexer": "ipython3",
   "version": "3.11.10"
  }
 },
 "nbformat": 4,
 "nbformat_minor": 2
}
