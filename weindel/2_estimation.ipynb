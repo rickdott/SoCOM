{
 "cells": [
  {
   "cell_type": "code",
   "execution_count": null,
   "metadata": {},
   "outputs": [],
   "source": [
    "%load_ext autoreload\n",
    "%autoreload 2\n",
    "import xarray as xr\n",
    "import hmp\n",
    "from pathlib import Path\n",
    "from mne.io import read_info\n",
    "from mne import read_epochs\n",
    "from hmpai.data import StageFinder, SAT_CLASSES_ACCURACY, SAT_CLASSES_SPEED\n",
    "import os\n",
    "from hmpai.behaviour.sat2 import SAT2_SPLITS\n",
    "DATA_PATH = Path(os.getenv(\"DATA_PATH\"))"
   ]
  },
  {
   "cell_type": "code",
   "execution_count": null,
   "metadata": {},
   "outputs": [],
   "source": [
    "info_path = DATA_PATH / \"sat2/preprocessed_500hz/S1_epo.fif\"\n",
    "positions = read_info(info_path)\n",
    "\n",
    "epoch = read_epochs(info_path)\n",
    "epoch.set_montage('biosemi64')\n",
    "positions = epoch.info"
   ]
  },
  {
   "cell_type": "markdown",
   "metadata": {},
   "source": [
    "### Calculate PCA weights over train set"
   ]
  },
  {
   "cell_type": "code",
   "execution_count": null,
   "metadata": {},
   "outputs": [],
   "source": [
    "epoched_data_path = DATA_PATH / \"sat2/data_250hz.nc\"\n",
    "data = xr.load_dataset(epoched_data_path)\n",
    "data = data.sel(participant=SAT2_SPLITS[0])\n",
    "\n",
    "conditions = [\"accuracy\", \"speed\"]\n",
    "labels = {\"accuracy\": SAT_CLASSES_ACCURACY, \"speed\": SAT_CLASSES_SPEED}\n",
    "\n",
    "pca_finder = StageFinder(data, labels, conditions, n_comp=10)\n",
    "pca_finder.hmp_data_offset.pca_weights"
   ]
  },
  {
   "cell_type": "code",
   "execution_count": null,
   "metadata": {},
   "outputs": [],
   "source": [
    "conditions = [\"accuracy\", \"speed\"]\n",
    "labels = {\"accuracy\": SAT_CLASSES_ACCURACY, \"speed\": SAT_CLASSES_SPEED}\n",
    "\n",
    "pca_finder = StageFinder(data, labels, conditions, n_comp=10)\n",
    "pca_finder.hmp_data_offset.pca_weights.to_netcdf(\"files/train_pca.nc\")"
   ]
  },
  {
   "cell_type": "markdown",
   "metadata": {},
   "source": [
    "### Fit HMP"
   ]
  },
  {
   "cell_type": "code",
   "execution_count": null,
   "metadata": {},
   "outputs": [],
   "source": [
    "cpus = 4 # Amount of cores used (depends on fit_function if multiprocessing is used)\n",
    "\n",
    "epoched_data_path = DATA_PATH / \"sat2/data_250hz.nc\"\n",
    "pca_weights = xr.load_dataarray(\"files/train_pca.nc\")\n",
    "conditions = [\"accuracy\", \"speed\"]\n",
    "labels = {\"accuracy\": SAT_CLASSES_ACCURACY, \"speed\": SAT_CLASSES_SPEED}\n",
    "\n",
    "stage_finder = StageFinder(\n",
    "    epoched_data_path,\n",
    "    labels,\n",
    "    conditions=conditions,\n",
    "    cpus=cpus,\n",
    "    fit_function=\"fit_single\",  # n_events is extracted from the amount of labels in 'conditions' variable\n",
    "    fit_args={\"starting_points\": 1},\n",
    "    verbose=False,\n",
    "    condition_variable=\"condition\",\n",
    "    condition_method=\"equal\",\n",
    "    fits_to_load=[\"accuracy_250hz.nc\", \"speed_250hz.nc\"], # Comment out if fitting anew\n",
    "    n_comp=10,\n",
    "    event_width=45,\n",
    "    behaviour_path=DATA_PATH / \"sat2/behavioural/df_full.csv\",\n",
    "    pca_weights=pca_weights,\n",
    ")\n",
    "stage_finder.fit_model()"
   ]
  },
  {
   "cell_type": "code",
   "execution_count": null,
   "metadata": {},
   "outputs": [],
   "source": [
    "fig, ax = stage_finder.visualize_model(positions, max_time=800, figsize=(7.09, 2))\n",
    "fig.savefig(\"../img/hmp_fit.svg\")"
   ]
  },
  {
   "cell_type": "code",
   "execution_count": null,
   "metadata": {},
   "outputs": [],
   "source": [
    "hmp.utils.save_fit(stage_finder.fits[0], \"fits/accuracy_250hz.nc\")\n",
    "hmp.utils.save_fit(stage_finder.fits[1], \"fits/speed_250hz.nc\")"
   ]
  },
  {
   "cell_type": "code",
   "execution_count": null,
   "metadata": {},
   "outputs": [],
   "source": [
    "output_path = DATA_PATH / \"sat2/stage_data_250hz.nc\"\n",
    "stage_data = stage_finder.label_model(label_fn=stage_finder.__label_model_probabilistic__, probabilistic=True)"
   ]
  },
  {
   "cell_type": "code",
   "execution_count": null,
   "metadata": {},
   "outputs": [],
   "source": [
    "stage_data.to_netcdf(output_path)"
   ]
  },
  {
   "cell_type": "markdown",
   "metadata": {},
   "source": [
    "### Event width comparison"
   ]
  },
  {
   "cell_type": "code",
   "execution_count": null,
   "metadata": {},
   "outputs": [],
   "source": [
    "info_path = DATA_PATH / \"sat2/preprocessed_500hz/S1_epo.fif\"\n",
    "positions = read_info(info_path)\n",
    "\n",
    "epoch = read_epochs(info_path)\n",
    "epoch.set_montage('biosemi64')\n",
    "positions = epoch.info"
   ]
  },
  {
   "cell_type": "code",
   "execution_count": null,
   "metadata": {},
   "outputs": [],
   "source": [
    "epoched_data_path = DATA_PATH / \"sat2/data_250hz.nc\"\n",
    "pca_weights = xr.load_dataarray(\"train_pca.nc\")\n",
    "\n",
    "conditions = [\"accuracy\", \"speed\"]\n",
    "labels = {\"accuracy\": SAT_CLASSES_ACCURACY, \"speed\": SAT_CLASSES_SPEED}\n",
    "\n",
    "ew_values = [20, 25, 30, 35, 40, 45, 50, 55, 60]\n",
    "for event_width in ew_values:\n",
    "    stage_finder = StageFinder(\n",
    "        epoched_data_path,\n",
    "        labels,\n",
    "        conditions=conditions,\n",
    "        cpus=cpus,\n",
    "        fit_function=\"fit\",\n",
    "        verbose=False,\n",
    "        condition_variable=\"condition\",\n",
    "        condition_method=\"equal\",\n",
    "        n_comp=10,\n",
    "        event_width=event_width,\n",
    "        behaviour_path=DATA_PATH / \"sat2/behavioural/df_full.csv\",\n",
    "        pca_weights=pca_weights,\n",
    "    )\n",
    "    stage_finder.fit_model()\n",
    "    fig, ax = stage_finder.visualize_model(positions, max_time=800, figsize=(12, 3))\n",
    "    fig.savefig(f\"../img/event_width/hmp_fit_{str(event_width)}.svg\")"
   ]
  }
 ],
 "metadata": {
  "kernelspec": {
   "display_name": "base",
   "language": "python",
   "name": "python3"
  },
  "language_info": {
   "codemirror_mode": {
    "name": "ipython",
    "version": 3
   },
   "file_extension": ".py",
   "mimetype": "text/x-python",
   "name": "python",
   "nbconvert_exporter": "python",
   "pygments_lexer": "ipython3",
   "version": "3.11.10"
  }
 },
 "nbformat": 4,
 "nbformat_minor": 2
}
