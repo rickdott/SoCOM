{
 "cells": [
  {
   "cell_type": "code",
   "execution_count": null,
   "metadata": {},
   "outputs": [],
   "source": [
    "%load_ext autoreload\n",
    "%autoreload 2\n",
    "import numpy as np\n",
    "import xarray as xr\n",
    "import hmp\n",
    "from pathlib import Path\n",
    "from mne.io import read_info\n",
    "from mne import read_epochs\n",
    "from hmpai.data import StageFinder, SAT_CLASSES_ACCURACY\n",
    "import os\n",
    "import itertools\n",
    "import matplotlib.pyplot as plt\n",
    "from hmpai.visualization import set_seaborn_style\n",
    "DATA_PATH = Path(os.getenv(\"DATA_PATH\"))"
   ]
  },
  {
   "cell_type": "code",
   "execution_count": null,
   "metadata": {},
   "outputs": [],
   "source": [
    "info_path = DATA_PATH / \"sat2/preprocessed_500hz/S1_epo.fif\"\n",
    "positions = read_info(info_path)\n",
    "epoch = read_epochs(info_path)\n",
    "epoch.set_montage('biosemi64')\n",
    "positions = epoch.info\n",
    "\n",
    "data_paths = [DATA_PATH / \"sat2/stage_data_250hz_tertile.nc\"]\n",
    "datasets = [xr.open_dataset(path) for path in data_paths]"
   ]
  },
  {
   "cell_type": "code",
   "execution_count": null,
   "metadata": {},
   "outputs": [],
   "source": [
    "conditions = np.unique(datasets[0].condition).tolist()\n",
    "tertiles = np.unique(datasets[0].tertile).tolist()\n",
    "tertiles.reverse() # (Ordering for figure)\n",
    "conditions = [cond for cond in conditions if cond != '']\n",
    "tertiles = [tert for tert in tertiles if not np.isnan(tert)]\n",
    "combinations = list(itertools.product(conditions, tertiles))\n",
    "tert_names = ['High', 'Medium', 'Low']"
   ]
  },
  {
   "cell_type": "code",
   "execution_count": null,
   "metadata": {},
   "outputs": [],
   "source": [
    "fit_ac = hmp.utils.load_fit(\"files/fits/accuracy_250hz.nc\")\n",
    "fit_sp = hmp.utils.load_fit(\"files/fits/speed_250hz.nc\")\n",
    "\n",
    "n_events_to_fix = 1\n",
    "\n",
    "prepars_ac = fit_ac.parameters.data[:n_events_to_fix]\n",
    "premags_ac = fit_ac.magnitudes.data[:n_events_to_fix]\n",
    "prepars_sp = fit_sp.parameters.data[:n_events_to_fix]\n",
    "premags_sp = fit_sp.magnitudes.data[:n_events_to_fix]"
   ]
  },
  {
   "cell_type": "markdown",
   "metadata": {},
   "source": [
    "### Fitting and saving models"
   ]
  },
  {
   "cell_type": "code",
   "execution_count": null,
   "metadata": {},
   "outputs": [],
   "source": [
    "pca_weights = xr.load_dataarray(\"files/train_pca.nc\")\n",
    "finder = StageFinder(\n",
    "    datasets[0],\n",
    "    labels=SAT_CLASSES_ACCURACY,\n",
    "    fit_function=\"fit\",\n",
    "    event_width=45,\n",
    "    n_comp=10,\n",
    "    cpus=0,\n",
    "    conditions=[],\n",
    "    pca_weights=pca_weights,\n",
    ")\n",
    "fig, ax = plt.subplots(3, 2, sharex=True, sharey=False, figsize=(12, 6))\n",
    "for i, (cond, tert) in enumerate(combinations):\n",
    "    tert_name = tert_names[tertiles.index(tert)]\n",
    "    print(f\"SAT: {cond}, tertile: {tert_name}\")\n",
    "    if cond == 'accuracy':\n",
    "        prepars = prepars_ac\n",
    "        premags = premags_ac\n",
    "    elif cond == 'speed':\n",
    "        prepars = prepars_sp\n",
    "        premags = premags_sp\n",
    "    else:\n",
    "        raise ValueError(f'cond {cond} not recognized.')\n",
    "    # At this point, data is only labelled with tertile for participants in test/val sets\n",
    "    finder.fit_model(fit_args={\"prepars\": prepars, \"premags\": premags}, extra_split=[(\"condition\", \"equal\", cond), (\"tertile\", \"equal\", tert)])\n",
    "\n",
    "    hmp.utils.save_fit(finder.fits[-1], f\"files/fits/{cond}_{str(int(tert))}.nc\")\n",
    "\n",
    "    # Determine the subplot position based on index in a 3x2 grid\n",
    "    row, col = tertiles.index(tert), conditions.index(cond)\n",
    "    cur_ax = ax[row, col]\n",
    "    \n",
    "    # Visualize model in the current subplot\n",
    "    finder.visualize_model(positions, max_time=800, ax=cur_ax, colorbar=col == 1, cond_label=None, model_index=i)\n",
    "\n",
    "    # Label axes\n",
    "    if row == 2:\n",
    "        cur_ax.set_xlabel(f\"Time (in ms)\\n{cond.capitalize()}\")\n",
    "    if col == 0:\n",
    "        cur_ax.set_ylabel(tert_name)\n",
    "    cur_ax.set_yticks([0.5], [None])\n",
    "\n",
    "fig.supylabel(\"Average confirmation probability tertile\")\n",
    "fig.supxlabel(\"Condition\")\n",
    "fig.tight_layout()\n",
    "plt.show()"
   ]
  },
  {
   "cell_type": "markdown",
   "metadata": {},
   "source": [
    "### Visualization\n",
    "Takes slightly shorter than fitting all subsets"
   ]
  },
  {
   "cell_type": "code",
   "execution_count": null,
   "metadata": {},
   "outputs": [],
   "source": [
    "# Load in all fitted models\n",
    "fit_path = Path(\"files/fits/\")\n",
    "fig, ax = plt.subplots(3, 2, dpi=300, sharex=True, sharey=False, figsize=(7.09, 4))  # Adjusted the layout and size for 3x2 grid\n",
    "finder = StageFinder(\n",
    "    datasets[0],\n",
    "    labels=SAT_CLASSES_ACCURACY,\n",
    "    fit_function=\"fit\",\n",
    "    event_width=45,\n",
    "    n_comp=10,\n",
    "    cpus=0,\n",
    "    conditions=[],\n",
    "    pca_weights = xr.load_dataarray(\"files/train_pca.nc\"),\n",
    ")\n",
    "set_seaborn_style()\n",
    "for i, (cond, tert) in enumerate(combinations):\n",
    "    tert_name = tert_names[tertiles.index(tert)]\n",
    "    print(f\"SAT: {cond}, tertile: {tert_name}\")\n",
    "    finder.fits_to_load = [fit_path / f\"{cond}_{str(int(tert))}.nc\"]\n",
    "    finder.fit_model(extra_split=[(\"condition\", \"equal\", cond), (\"tertile\", \"equal\", tert)])\n",
    "    # Determine the subplot position based on index in a 3x2 grid\n",
    "    row, col = tertiles.index(tert), conditions.index(cond)\n",
    "    cur_ax = ax[row, col]\n",
    "    \n",
    "    # Visualize model in the current subplot\n",
    "    finder.visualize_model(positions, max_time=800, ax=cur_ax, colorbar=col == 1, cond_label=None, model_index=i)\n",
    "    \n",
    "    # Label axes\n",
    "    if row == 2:\n",
    "        cur_ax.set_xlabel(f\"Time (in ms)\\n{cond.capitalize()}\")\n",
    "    if col == 0:\n",
    "        cur_ax.set_ylabel(tert_name)\n",
    "    cur_ax.set_yticks([0.5], [None])\n",
    "\n",
    "# Set common labels and save figure\n",
    "fig.supylabel(\"Average confirmation probability tertile\")\n",
    "fig.supxlabel(\"Condition\")\n",
    "fig.tight_layout()\n",
    "fig.savefig(\"../img/refit_stacked.svg\")"
   ]
  }
 ],
 "metadata": {
  "kernelspec": {
   "display_name": "base",
   "language": "python",
   "name": "python3"
  },
  "language_info": {
   "codemirror_mode": {
    "name": "ipython",
    "version": 3
   },
   "file_extension": ".py",
   "mimetype": "text/x-python",
   "name": "python",
   "nbconvert_exporter": "python",
   "pygments_lexer": "ipython3",
   "version": "3.11.10"
  }
 },
 "nbformat": 4,
 "nbformat_minor": 2
}
