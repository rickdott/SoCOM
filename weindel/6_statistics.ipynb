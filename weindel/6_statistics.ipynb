{
 "cells": [
  {
   "cell_type": "code",
   "execution_count": null,
   "metadata": {},
   "outputs": [],
   "source": [
    "%load_ext autoreload\n",
    "%autoreload 2\n",
    "from pathlib import Path\n",
    "from hmpai.pytorch.models import *\n",
    "from hmpai.pytorch.utilities import DEVICE, set_global_seed, load_model\n",
    "from hmpai.pytorch.generators import MultiXArrayProbaDataset\n",
    "from hmpai.data import SAT_CLASSES_ACCURACY\n",
    "from hmpai.pytorch.normalization import *\n",
    "from hmpai.utilities import calc_ratio, format_stats_latex\n",
    "from torch.utils.data import DataLoader\n",
    "import os\n",
    "DATA_PATH = Path(os.getenv(\"DATA_PATH\"))\n",
    "from hmpai.visualization import *\n",
    "from hmpai.behaviour.sat2 import read_behavioural_info, SAT2_SPLITS, merge_data\n",
    "from hmpai.pytorch.mamba import *\n",
    "from pymer4.models import Lmer\n"
   ]
  },
  {
   "cell_type": "code",
   "execution_count": null,
   "metadata": {},
   "outputs": [],
   "source": [
    "# Set base variables\n",
    "set_global_seed(42)\n",
    "data_paths = [DATA_PATH / \"sat2/stage_data_250hz.nc\"]\n",
    "\n",
    "splits = SAT2_SPLITS\n",
    "labels = SAT_CLASSES_ACCURACY\n",
    "whole_epoch = True\n",
    "info_to_keep = ['event_name', 'participant', 'epochs', 'rt', 'condition']\n",
    "subset_cond = None\n",
    "skip_samples = 62 # 0.25s\n",
    "cut_samples = 63 # 0.25s\n",
    "add_negative = True\n",
    "add_pe = True"
   ]
  },
  {
   "cell_type": "code",
   "execution_count": null,
   "metadata": {},
   "outputs": [],
   "source": [
    "# Create datasets\n",
    "norm_fn = norm_mad_zscore\n",
    "\n",
    "train_data = MultiXArrayProbaDataset(\n",
    "    data_paths,\n",
    "    participants_to_keep=splits[0],\n",
    "    normalization_fn=norm_fn,\n",
    "    whole_epoch=whole_epoch,\n",
    "    labels=labels,\n",
    "    info_to_keep=info_to_keep,\n",
    "    subset_cond=subset_cond,\n",
    "    skip_samples=skip_samples,\n",
    "    cut_samples=cut_samples,\n",
    "    add_negative=add_negative,\n",
    "    add_pe=add_pe,\n",
    ")\n",
    "norm_vars = get_norm_vars_from_global_statistics(train_data.statistics, norm_fn)\n",
    "class_weights = train_data.statistics[\"class_weights\"]\n",
    "\n",
    "test_data = MultiXArrayProbaDataset(\n",
    "    data_paths,\n",
    "    participants_to_keep=splits[1] + splits[2],\n",
    "    normalization_fn=norm_fn,\n",
    "    norm_vars=norm_vars,\n",
    "    whole_epoch=whole_epoch,\n",
    "    labels=labels,\n",
    "    info_to_keep=info_to_keep,\n",
    "    subset_cond=subset_cond,\n",
    "    skip_samples=skip_samples,\n",
    "    cut_samples=cut_samples,\n",
    "    add_negative=add_negative,\n",
    "    add_pe=add_pe,\n",
    ")"
   ]
  },
  {
   "cell_type": "code",
   "execution_count": null,
   "metadata": {},
   "outputs": [],
   "source": [
    "# Load in behavioural data\n",
    "behaviour_sat2 = read_behavioural_info(DATA_PATH / \"sat2/behavioural/df_full.csv\")\n",
    "test_loader_sat2 = DataLoader(\n",
    "    test_data, batch_size=128, shuffle=True, num_workers=0, pin_memory=True\n",
    ")"
   ]
  },
  {
   "cell_type": "code",
   "execution_count": null,
   "metadata": {},
   "outputs": [],
   "source": [
    "chk_path = Path(\"../models/final.pt\")\n",
    "checkpoint = load_model(chk_path)\n",
    "config = {\n",
    "    \"n_channels\": 64,\n",
    "    \"n_classes\": len(labels),\n",
    "    \"n_mamba_layers\": 5,\n",
    "    \"use_pointconv_fe\": True,\n",
    "    \"spatial_feature_dim\": 128,\n",
    "    \"use_conv\": True,\n",
    "    \"conv_kernel_sizes\": [3, 9],\n",
    "    \"conv_in_channels\": [128, 128],\n",
    "    \"conv_out_channels\": [256, 256],\n",
    "    \"conv_concat\": True,\n",
    "    \"use_pos_enc\": True,\n",
    "}\n",
    "model = build_mamba(config)\n",
    "model.load_state_dict(checkpoint[\"model_state_dict\"])\n",
    "model = model.to(DEVICE)\n",
    "model.eval();"
   ]
  },
  {
   "cell_type": "code",
   "execution_count": null,
   "metadata": {},
   "outputs": [],
   "source": [
    "# Run this if visu_merged.csv does not exist\n",
    "data = predict_with_auc(model, test_loader_sat2, info_to_keep, labels)\n",
    "data = merge_data(data, behaviour_sat2)\n",
    "data.to_csv(\"files/visu_merged.csv\", index=False)"
   ]
  },
  {
   "cell_type": "code",
   "execution_count": null,
   "metadata": {},
   "outputs": [],
   "source": [
    "# Otherwise run this\n",
    "data = pd.read_csv(\"files/visu_merged.csv\")"
   ]
  },
  {
   "cell_type": "markdown",
   "metadata": {},
   "source": [
    "### Tertiles"
   ]
  },
  {
   "cell_type": "code",
   "execution_count": null,
   "metadata": {},
   "outputs": [],
   "source": [
    "def get_tertiles(data: pd.DataFrame, column: str, conditions: list[str], rt_col: str='rt_x', cue_var='SAT'):\n",
    "    data = data.copy()\n",
    "    data = calc_ratio(data, column, rt_col)\n",
    "    ratio_column = column + '_ratio'\n",
    "\n",
    "    for condition in conditions:\n",
    "        data_subset = data[data[cue_var] == condition]\n",
    "        quantile_values = data_subset.groupby('participant')[ratio_column].quantile([1/3, 2/3]).unstack()\n",
    "        low_tertiles = quantile_values.iloc[:,0]\n",
    "        high_tertiles = quantile_values.iloc[:,1]\n",
    "        print(f'{condition}, low. mean: {low_tertiles.mean():.2f}, std: {low_tertiles.std():.2f}')\n",
    "        print(f'{condition}, high. mean: {high_tertiles.mean():.2f}, std: {high_tertiles.std():.2f}')\n",
    "\n",
    "def add_tertiles(data: pd.DataFrame, column: str, conditions: list[str], rt_col: str='rt_x', cue_var='SAT'):\n",
    "    data = calc_ratio(data, column, rt_col)\n",
    "    ratio_column = column + '_ratio'\n",
    "    \n",
    "    # Initialize tertile column\n",
    "    data['tertile'] = pd.NA\n",
    "\n",
    "    for condition in conditions:\n",
    "        condition_mask = data[cue_var] == condition\n",
    "\n",
    "        # Directly assign back to the original dataframe using `.loc`\n",
    "        data.loc[condition_mask, 'tertile'] = data[condition_mask].groupby('participant')[ratio_column].transform(\n",
    "            lambda x: pd.qcut(x, q=3, labels=['Low', 'Medium', 'High'])\n",
    "        )\n",
    "\n",
    "    return data"
   ]
  },
  {
   "cell_type": "code",
   "execution_count": null,
   "metadata": {},
   "outputs": [],
   "source": [
    "data = add_tertiles(data, 'confirmation', ['accuracy', 'speed'])"
   ]
  },
  {
   "cell_type": "markdown",
   "metadata": {},
   "source": [
    "### Probability correct\n",
    "Generalized Linear Mixed Effects Regression"
   ]
  },
  {
   "cell_type": "code",
   "execution_count": null,
   "metadata": {},
   "outputs": [],
   "source": [
    "data_lmer = data[[\"participant\", \"condition\", \"confirmation_ratio\", \"response\", \"tertile\"]].copy()\n",
    "data_lmer[\"participant\"] = data_lmer[\"participant\"].astype(\"category\")\n",
    "data_lmer[\"condition\"] = data_lmer[\"condition\"].astype(\"category\")\n",
    "data_lmer[\"tertile\"] = data_lmer[\"tertile\"].astype(\"category\")\n",
    "\n",
    "formula = \"response ~ condition * confirmation_ratio + (1|participant)\"\n",
    "\n",
    "model = Lmer(formula, data_lmer, family=\"binomial\")\n",
    "result = model.fit()\n",
    "print(model.summary())"
   ]
  },
  {
   "cell_type": "code",
   "execution_count": null,
   "metadata": {},
   "outputs": [],
   "source": [
    "format_stats_latex(model)"
   ]
  },
  {
   "cell_type": "markdown",
   "metadata": {},
   "source": [
    "### EMG Sequences\n",
    "Generalized Linear Mixed Effects Regression"
   ]
  },
  {
   "cell_type": "code",
   "execution_count": null,
   "metadata": {},
   "outputs": [],
   "source": [
    "group_mapping = {\n",
    "    \"IR\": 0,\n",
    "    \"CR\": 0,\n",
    "    \"ICR\": 1,\n",
    "    \"CIR\": 1,\n",
    "    \"CCR\": 1,\n",
    "    \"IIR\": 1,\n",
    "}\n",
    "data[\"EMG_group\"] = data[\"EMG_sequence\"].map(group_mapping)\n",
    "data = data[data[\"EMG_group\"].notnull()]\n",
    "data = calc_ratio(data, 'confirmation')"
   ]
  },
  {
   "cell_type": "code",
   "execution_count": null,
   "metadata": {},
   "outputs": [],
   "source": [
    "data_lmer = data[[\"participant\", \"condition\", \"confirmation_ratio\", \"EMG_group\"]].copy()\n",
    "data_lmer[\"participant\"] = data_lmer[\"participant\"].astype(\"category\")\n",
    "data_lmer[\"condition\"] = data_lmer[\"condition\"].astype(\"category\")\n",
    "\n",
    "formula = \"EMG_group ~ condition * confirmation_ratio + (1|participant)\"\n",
    "\n",
    "model = Lmer(formula, data_lmer, family=\"binomial\")\n",
    "\n",
    "result = model.fit()\n",
    "print(model.summary())"
   ]
  },
  {
   "cell_type": "code",
   "execution_count": null,
   "metadata": {},
   "outputs": [],
   "source": [
    "format_stats_latex(model)"
   ]
  }
 ],
 "metadata": {
  "kernelspec": {
   "display_name": "base",
   "language": "python",
   "name": "python3"
  },
  "language_info": {
   "codemirror_mode": {
    "name": "ipython",
    "version": 3
   },
   "file_extension": ".py",
   "mimetype": "text/x-python",
   "name": "python",
   "nbconvert_exporter": "python",
   "pygments_lexer": "ipython3",
   "version": "3.11.10"
  }
 },
 "nbformat": 4,
 "nbformat_minor": 2
}
